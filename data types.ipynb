{
 "cells": [
  {
   "cell_type": "markdown",
   "metadata": {},
   "source": [
    "## Data types\n",
    "\n",
    "Today we'll be taking a look at the standard data types that come with python and some examples of how we can use these data types to represent real world information. This list isn't comprehensive, there are many more types available but this is the majority of what you'll see day to day.\n",
    "\n",
    "### Why?\n",
    "\n",
    "Data types are the building blocks of applications. They are the basic elements we can combine to form more complex structures."
   ]
  },
  {
   "cell_type": "markdown",
   "metadata": {},
   "source": [
    "## Integers\n",
    "\n",
    "Integers are whole numbers. They can be either positive or negative:"
   ]
  },
  {
   "cell_type": "code",
   "execution_count": null,
   "metadata": {
    "collapsed": false
   },
   "outputs": [],
   "source": [
    "1"
   ]
  },
  {
   "cell_type": "code",
   "execution_count": null,
   "metadata": {
    "collapsed": false
   },
   "outputs": [],
   "source": [
    "-5"
   ]
  },
  {
   "cell_type": "markdown",
   "metadata": {},
   "source": [
    "Ints generally can be up to any size:"
   ]
  },
  {
   "cell_type": "code",
   "execution_count": null,
   "metadata": {
    "collapsed": false
   },
   "outputs": [],
   "source": [
    "2**65"
   ]
  },
  {
   "cell_type": "markdown",
   "metadata": {},
   "source": [
    "But notice how there's an 'L' at the end there? This means that python has represented the output of the operation as a long int. I won't get into the details now but if you'd like more information: \n",
    "\n",
    "- http://en.wikipedia.org/wiki/32-bit\n",
    "- http://stackoverflow.com/a/5435660\n",
    "- http://en.wikipedia.org/wiki/Integer_(computer_science)#Common_integral_data_types\n",
    "\n",
    "\n",
    "The boundry between ints and long ints depends on the system python is running on. Python will handle the switch from int to long automatically so normally it's not something you'd have to worry about but be aware that if you wanted to check if the user input or result of some calculation was an int, the test might fail:"
   ]
  },
  {
   "cell_type": "code",
   "execution_count": null,
   "metadata": {
    "collapsed": false
   },
   "outputs": [],
   "source": [
    "import sys\n",
    "sys.maxint"
   ]
  },
  {
   "cell_type": "code",
   "execution_count": null,
   "metadata": {
    "collapsed": false
   },
   "outputs": [],
   "source": [
    "type(9223372036854775807)"
   ]
  },
  {
   "cell_type": "code",
   "execution_count": null,
   "metadata": {
    "collapsed": false
   },
   "outputs": [],
   "source": [
    "type(9223372036854775807 + 1)"
   ]
  },
  {
   "cell_type": "code",
   "execution_count": null,
   "metadata": {
    "collapsed": false
   },
   "outputs": [],
   "source": [
    "int == type(9223372036854775807 + 1)"
   ]
  },
  {
   "cell_type": "markdown",
   "metadata": {},
   "source": [
    "In practice these differences don't mean much as ints and longs play well together. Side note: we don't see the 'L' in these examples because the print statement knows to hide it."
   ]
  },
  {
   "cell_type": "code",
   "execution_count": null,
   "metadata": {
    "collapsed": false
   },
   "outputs": [],
   "source": [
    "print type(2**100)\n",
    "print type(15)\n",
    "print 2**100 + 15\n",
    "print 2**100 - 15\n",
    "print 2**100 * 15\n",
    "print 2**100 / 15"
   ]
  },
  {
   "cell_type": "markdown",
   "metadata": {},
   "source": [
    "## Floating point numbers\n",
    "\n",
    "Floating point numbers are a bit tricky. Let's take a look at some examples:"
   ]
  },
  {
   "cell_type": "code",
   "execution_count": null,
   "metadata": {
    "collapsed": false
   },
   "outputs": [],
   "source": [
    "1.5"
   ]
  },
  {
   "cell_type": "code",
   "execution_count": null,
   "metadata": {
    "collapsed": false
   },
   "outputs": [],
   "source": [
    "type(1.5)"
   ]
  },
  {
   "cell_type": "markdown",
   "metadata": {},
   "source": [
    "So you might think that floats are numbers that have decimal parts but..."
   ]
  },
  {
   "cell_type": "code",
   "execution_count": null,
   "metadata": {
    "collapsed": false
   },
   "outputs": [],
   "source": [
    "0.1 + 0.2"
   ]
  },
  {
   "cell_type": "markdown",
   "metadata": {},
   "source": [
    "The python docs discuss this behavior: (https://docs.python.org/2/tutorial/floatingpoint.html#representation-error):\n",
    "\n",
    "> Note that this is in the very nature of binary floating-point: this is not a bug in Python, and it is not a bug in your code either. You’ll see the same kind of thing in all languages that support your hardware’s floating-point arithmetic (although some languages may not display the difference by default, or in all output modes).\n",
    "\n",
    "For more info: http://en.wikipedia.org/wiki/IEEE_floating_point"
   ]
  },
  {
   "cell_type": "markdown",
   "metadata": {},
   "source": [
    "In short: if you are doing work which requires numerical precision you'll want to use the decimal library. Note that we have to pass the Decimal class a string as an argument."
   ]
  },
  {
   "cell_type": "code",
   "execution_count": null,
   "metadata": {
    "collapsed": false
   },
   "outputs": [],
   "source": [
    "from decimal import Decimal\n",
    "Decimal('0.1') + Decimal('0.2')"
   ]
  },
  {
   "cell_type": "markdown",
   "metadata": {},
   "source": [
    "## Strings\n",
    "\n",
    "Now we get to the fun stuff. I say we're getting into the fun stuff because there aren't a lot of methods for numerical types but the rest of the types we'll discuss have plenty of methods available to them which can be very useful.\n",
    "\n",
    "Strings are text, generally. A string is any collection of symbols surrounded by quotes:"
   ]
  },
  {
   "cell_type": "code",
   "execution_count": null,
   "metadata": {
    "collapsed": false
   },
   "outputs": [],
   "source": [
    "('Hello '\n",
    "\"python \"\n",
    "'''learners''')"
   ]
  },
  {
   "cell_type": "markdown",
   "metadata": {},
   "source": [
    "This example demonstrates a couple of properties of strings. We can represent strings with single, double and triple quotes. We can split strings across several lines and they will be automatically grouped together into a single string as long was we group them together with parentheses.\n",
    "\n",
    "There's more than one way to combine strings though:"
   ]
  },
  {
   "cell_type": "code",
   "execution_count": null,
   "metadata": {
    "collapsed": false
   },
   "outputs": [],
   "source": [
    "\"We can \" + \"concatenate strings \" + \"together using the + operator\""
   ]
  },
  {
   "cell_type": "code",
   "execution_count": null,
   "metadata": {
    "collapsed": false
   },
   "outputs": [],
   "source": [
    "first = \"sometimes it's better \"\n",
    "middle = \"to assign parts of a long string \"\n",
    "last = \"to variables then concatenate the strings by the variable names\"\n",
    "sentence = first + middle + last\n",
    "print sentence"
   ]
  },
  {
   "cell_type": "markdown",
   "metadata": {},
   "source": [
    "The methods available to strings allow us to modify and ask questions which give us useful information."
   ]
  },
  {
   "cell_type": "code",
   "execution_count": null,
   "metadata": {
    "collapsed": false
   },
   "outputs": [],
   "source": [
    "for i in dir('Hello'):\n",
    "    if not i.startswith('_'):\n",
    "        print i"
   ]
  },
  {
   "cell_type": "markdown",
   "metadata": {},
   "source": [
    "Here are some examples of what we can do with these methods:"
   ]
  },
  {
   "cell_type": "code",
   "execution_count": null,
   "metadata": {
    "collapsed": false
   },
   "outputs": [],
   "source": [
    "word = \"hello\"\n",
    "print \"capitalize:\", word.capitalize() # capitalize the first letter of the string\n",
    "print \"count:\", word.count('l') # count how many times the string we pass as an argument appear in 'word'\n",
    "print \"endswith:\", word.endswith('o') # T/F if it ends with the string we pass as an argument\n",
    "print \"index:\", word.index('o') # Returns index of the string we pass as an argument (remember indexes start at 0)\n",
    "print \"isalpha:\", word.isalpha() # methods that start with 'is' give us a clue that the method returns True or False\n",
    "print \"upper:\", word.upper() # changes all letters of the string to uppercase\n",
    "word_two = \"HeLlO\"\n",
    "print \"swapcase:\", word_two.swapcase() # for every letter in the string, swap between upper and lower case\n",
    "name = \"guido van rossum\"\n",
    "print \"title:\", name.title() # Assumes the string is a name and will change the first letter of each word to uppercase"
   ]
  },
  {
   "cell_type": "markdown",
   "metadata": {},
   "source": [
    "## Lists\n",
    "\n",
    "So far we've talked about data types that exist as singular objects. Now we can move on to data types that act as collections of items. The first we'll discuss is lists."
   ]
  },
  {
   "cell_type": "markdown",
   "metadata": {},
   "source": [
    "## Tuples"
   ]
  },
  {
   "cell_type": "markdown",
   "metadata": {},
   "source": [
    "## Dictionaries"
   ]
  },
  {
   "cell_type": "code",
   "execution_count": null,
   "metadata": {
    "collapsed": true
   },
   "outputs": [],
   "source": []
  }
 ],
 "metadata": {
  "kernelspec": {
   "display_name": "Python 2",
   "language": "python",
   "name": "python2"
  },
  "language_info": {
   "codemirror_mode": {
    "name": "ipython",
    "version": 2
   },
   "file_extension": ".py",
   "mimetype": "text/x-python",
   "name": "python",
   "nbconvert_exporter": "python",
   "pygments_lexer": "ipython2",
   "version": "2.7.10"
  }
 },
 "nbformat": 4,
 "nbformat_minor": 0
}
